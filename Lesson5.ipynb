{
 "cells": [
  {
   "cell_type": "markdown",
   "id": "72e18833",
   "metadata": {},
   "source": [
    "# INTERNAL LOADINGS DEVELOPED IN STRUCTURAL MEMBERS"
   ]
  },
  {
   "cell_type": "markdown",
   "id": "81acbad2",
   "metadata": {},
   "source": [
    "## Objectives\n",
    "\n",
    "- To show how to determine the internal loadings in a structural member at specified and arbitrary points.\n",
    "- To provide both analytical and a graphical procedure for constructing shear and moment diagrams for a member or frame."
   ]
  },
  {
   "cell_type": "markdown",
   "id": "034492b3",
   "metadata": {},
   "source": [
    "## Internal Loadings at a Specified Point\n",
    "\n",
    "The internal load at a specified point in a member can be determined by using the **method of sections**.\n",
    "\n",
    "In general, the loading for a coplanar structure will consists of a normal force $\\mathbf{N}$, shear force $\\mathbf{V}$, and bending moment $\\mathbf{M}$. These three loadings represent the *resultants* of the *stress distribution* acting over the member's cross-sectional area at the section. Once they are known, the magnitude of the stress can be determined and this can be used to design the member.\n",
    "\n",
    "<img src =\"iload.png\"/>"
   ]
  },
  {
   "cell_type": "markdown",
   "id": "4d92b6ea",
   "metadata": {},
   "source": [
    "### Sign Convention\n",
    "\n",
    "- A positive normal force tends to elongate the segment.\n",
    "<img src = \"normal.png\"/>\n",
    "- A positive shear tends to rotate the segment clockwise.\n",
    "<img src = \"shear.png\"/>\n",
    "- A positive bending moment tends to bend the segment concave upward.\n",
    "<img src = \"moment.png\"/>\n"
   ]
  },
  {
   "cell_type": "markdown",
   "id": "d808a0b7",
   "metadata": {},
   "source": [
    "## Shear and Moment Functions\n",
    "\n",
    "- The design of a beam requires a detailed knowlegde of the *variations* of the internal shear force V and moment M acting at each point along the axis of the beam.\n",
    "- The following procedure provides a method for determining the variation of shear and moment in a beam as a function of position $x$.\n",
    "\n",
    "**Support Reactions**\n",
    "\n",
    "- Determine the support reactions on the beam and resolve all the external forces into components acting perpendicular and parallel to the beam's axis.\n",
    "\n",
    "**Shear and Moment Functions**\n",
    "\n",
    "- Specify separate coordinates $x$ and associated origins, extending into regions of the beam between concentrated forces and/or couple moments, or where there is a discontinuity of distributed loading.\n",
    "- Section the beam at each distance $x$, and draw the free-body diagram, where $V$ and $M$ are shown acting in their positive directions.\n",
    "- $V$ is obtained from $\\sum{F_y} = 0$, and $M$ is obtained by summing moments about the point $S$ located at the section, $\\sum{M_S} = 0$.\n",
    "- The results can be checked by noting that $\\frac{dM}{dx} = V$ and $\\frac{dV}{dx} = w$, where $w$ is positive when it acts upward, away from the beam."
   ]
  },
  {
   "cell_type": "markdown",
   "id": "bed2c799",
   "metadata": {},
   "source": [
    "### Example 1\n",
    "\n",
    "Determine the shear and moment in the beam shown as a function of $x$.\n",
    "\n",
    "<img src =\"ex1.png\"/>"
   ]
  },
  {
   "cell_type": "markdown",
   "id": "5f8635c0",
   "metadata": {},
   "source": [
    "#### Support Reactions\n",
    "\n",
    "<img src =\"ex1fbd.png\"/>"
   ]
  },
  {
   "cell_type": "code",
   "execution_count": 1,
   "id": "d9a31402",
   "metadata": {},
   "outputs": [
    {
     "data": {
      "text/plain": [
       "15.0"
      ]
     },
     "execution_count": 1,
     "metadata": {},
     "output_type": "execute_result"
    }
   ],
   "source": [
    "# Calculate W in kN\n",
    "\n",
    "W = 10*3/2\n",
    "W"
   ]
  },
  {
   "cell_type": "code",
   "execution_count": 2,
   "id": "b9442284",
   "metadata": {},
   "outputs": [
    {
     "data": {
      "text/plain": [
       "15.0"
      ]
     },
     "execution_count": 2,
     "metadata": {},
     "output_type": "execute_result"
    }
   ],
   "source": [
    "# Calculate R in kN\n",
    "\n",
    "R = W\n",
    "R"
   ]
  },
  {
   "cell_type": "code",
   "execution_count": 3,
   "id": "d1beaa2a",
   "metadata": {},
   "outputs": [
    {
     "data": {
      "text/plain": [
       "30.0"
      ]
     },
     "execution_count": 3,
     "metadata": {},
     "output_type": "execute_result"
    }
   ],
   "source": [
    "# Calculate M_R in kN-m.\n",
    "\n",
    "M_R = W*(2/3)*3\n",
    "M_R"
   ]
  },
  {
   "cell_type": "markdown",
   "id": "61df3641",
   "metadata": {},
   "source": [
    "#### Shear and  Moment Functions\n",
    "\n",
    "<img src = \"ex1fbd2.png\"/>"
   ]
  },
  {
   "cell_type": "code",
   "execution_count": 8,
   "id": "97d7e5ab",
   "metadata": {},
   "outputs": [
    {
     "data": {
      "text/plain": [
       "[15.0 - 1.66666666666667*x**2]"
      ]
     },
     "execution_count": 8,
     "metadata": {},
     "output_type": "execute_result"
    }
   ],
   "source": [
    "# Shear equation\n",
    "\n",
    "import sympy as sp\n",
    "x = sp.symbols(\"x\")\n",
    "\n",
    "V = sp.symbols(\"V\")\n",
    "\n",
    "y = (10*x/3)\n",
    "\n",
    "V = sp.solve(R - (1/2)*y*x -V,V)\n",
    "V"
   ]
  },
  {
   "cell_type": "code",
   "execution_count": 9,
   "id": "282de594",
   "metadata": {},
   "outputs": [
    {
     "data": {
      "text/plain": [
       "[-0.555555555555556*x**3 + 15.0*x - 30.0]"
      ]
     },
     "execution_count": 9,
     "metadata": {},
     "output_type": "execute_result"
    }
   ],
   "source": [
    "# Moment function\n",
    "\n",
    "M = sp.symbols(\"M\")\n",
    "\n",
    "M = sp.solve(-M_R +15*x -(1/2)*y*x*(x/3)-M, M)\n",
    "M"
   ]
  },
  {
   "cell_type": "code",
   "execution_count": 11,
   "id": "c18cad60",
   "metadata": {},
   "outputs": [
    {
     "data": {
      "text/latex": [
       "$\\displaystyle 15 - 1.6668 x^{2}$"
      ],
      "text/plain": [
       "15 - 1.6668*x**2"
      ]
     },
     "execution_count": 11,
     "metadata": {},
     "output_type": "execute_result"
    }
   ],
   "source": [
    "### Checking\n",
    "\n",
    "V_eq = sp.diff(-0.5556*x**3+15*x -30)\n",
    "V_eq"
   ]
  },
  {
   "cell_type": "code",
   "execution_count": 12,
   "id": "7697f8a3",
   "metadata": {},
   "outputs": [
    {
     "data": {
      "text/latex": [
       "$\\displaystyle - 3.336 x$"
      ],
      "text/plain": [
       "-3.336*x"
      ]
     },
     "execution_count": 12,
     "metadata": {},
     "output_type": "execute_result"
    }
   ],
   "source": [
    "w = sp.diff(15-1.668*x**2)\n",
    "w"
   ]
  },
  {
   "cell_type": "markdown",
   "id": "6f97820e",
   "metadata": {},
   "source": [
    "### Diagrams"
   ]
  },
  {
   "cell_type": "code",
   "execution_count": 13,
   "id": "447feccb",
   "metadata": {},
   "outputs": [],
   "source": [
    "import numpy as np\n",
    "import matplotlib.pyplot as plt\n",
    "\n",
    "X = []\n",
    "V = []\n",
    "M = []\n",
    "\n",
    "l = np.linspace(0, 3, 100)\n",
    "\n",
    "for x in l:\n",
    "    v = 15.0-1.6667*x**2\n",
    "    m = -0.5556*x**3+15*x-30\n",
    "    \n",
    "    X.append(x)\n",
    "    V.append(v)\n",
    "    M.append(m)"
   ]
  },
  {
   "cell_type": "markdown",
   "id": "ecc169e8",
   "metadata": {},
   "source": [
    "#### Shear Diagram"
   ]
  },
  {
   "cell_type": "code",
   "execution_count": 14,
   "id": "13b51736",
   "metadata": {},
   "outputs": [
    {
     "data": {
      "text/plain": [
       "[<matplotlib.collections.PolyCollection at 0x22d55212af0>]"
      ]
     },
     "execution_count": 14,
     "metadata": {},
     "output_type": "execute_result"
    },
    {
     "data": {
      "image/png": "[encoded data removed]",
      "text/plain": [
       "<Figure size 432x288 with 1 Axes>"
      ]
     },
     "metadata": {
      "needs_background": "light"
     },
     "output_type": "display_data"
    }
   ],
   "source": [
    "plt.title(\"Shear Diagram\")\n",
    "plt.xlabel(\"distance (m)\")\n",
    "plt.ylabel(\"shear (kN)\")\n",
    "plt.stackplot(X,V)"
   ]
  },
  {
   "cell_type": "markdown",
   "id": "8bf18c81",
   "metadata": {},
   "source": [
    "#### Moment Diagram"
   ]
  },
  {
   "cell_type": "code",
   "execution_count": 15,
   "id": "a3f536ca",
   "metadata": {},
   "outputs": [
    {
     "data": {
      "text/plain": [
       "[<matplotlib.collections.PolyCollection at 0x22d56988cd0>]"
      ]
     },
     "execution_count": 15,
     "metadata": {},
     "output_type": "execute_result"
    },
    {
     "data": {
      "image/png": "[encoded data removed]",
      "text/plain": [
       "<Figure size 432x288 with 1 Axes>"
      ]
     },
     "metadata": {
      "needs_background": "light"
     },
     "output_type": "display_data"
    }
   ],
   "source": [
    "plt.title(\"Moment Diagram\")\n",
    "plt.xlabel(\"distance (m)\")\n",
    "plt.ylabel(\"Bending Moment (kN-m)\")\n",
    "plt.stackplot(X,M)"
   ]
  },
  {
   "cell_type": "markdown",
   "id": "e1a7164d",
   "metadata": {},
   "source": [
    "## Example 2\n",
    "\n",
    "Determine the shear and moment diagrams for the beam.\n",
    "\n",
    "<img src = \"ex2.png\"/>"
   ]
  },
  {
   "cell_type": "markdown",
   "id": "af289da1",
   "metadata": {},
   "source": [
    "#### Support Reactions\n",
    "\n",
    "<img src = \"ex2fbd1.png\"/>"
   ]
  },
  {
   "cell_type": "code",
   "execution_count": 16,
   "id": "74e20ce6",
   "metadata": {},
   "outputs": [
    {
     "data": {
      "text/plain": [
       "120"
      ]
     },
     "execution_count": 16,
     "metadata": {},
     "output_type": "execute_result"
    }
   ],
   "source": [
    "# Calculation of W in kN\n",
    "\n",
    "W = 30*4\n",
    "W"
   ]
  },
  {
   "cell_type": "code",
   "execution_count": 21,
   "id": "2b2e84ca",
   "metadata": {},
   "outputs": [
    {
     "data": {
      "text/plain": [
       "[105]"
      ]
     },
     "execution_count": 21,
     "metadata": {},
     "output_type": "execute_result"
    }
   ],
   "source": [
    "# Calculation of R_A\n",
    "\n",
    "R_A = sp.symbols('R_A')\n",
    "\n",
    "R_A = sp.solve(R_A*8-W*6-30*4, R_A)\n",
    "R_A"
   ]
  },
  {
   "cell_type": "code",
   "execution_count": 22,
   "id": "dfd4dbc4",
   "metadata": {},
   "outputs": [],
   "source": [
    "R_A = 105"
   ]
  },
  {
   "cell_type": "code",
   "execution_count": 23,
   "id": "bf4dd833",
   "metadata": {},
   "outputs": [
    {
     "data": {
      "text/plain": [
       "[45]"
      ]
     },
     "execution_count": 23,
     "metadata": {},
     "output_type": "execute_result"
    }
   ],
   "source": [
    "# Calculation  of R_B\n",
    "\n",
    "R_B = sp.symbols('R_B')\n",
    "\n",
    "R_B = sp.solve(R_B*8 -30*4 - W*2, R_B)\n",
    "R_B"
   ]
  },
  {
   "cell_type": "code",
   "execution_count": 24,
   "id": "a455a659",
   "metadata": {},
   "outputs": [],
   "source": [
    "R_B = 45"
   ]
  },
  {
   "cell_type": "markdown",
   "id": "e2de7a24",
   "metadata": {},
   "source": [
    "#### Shear and Moment Functions"
   ]
  },
  {
   "cell_type": "markdown",
   "id": "82224f10",
   "metadata": {},
   "source": [
    "**Segment AC**\n",
    "\n",
    "<img src =\"ex2fbd2.png\"/>"
   ]
  },
  {
   "cell_type": "code",
   "execution_count": 25,
   "id": "d8739a2a",
   "metadata": {},
   "outputs": [
    {
     "data": {
      "text/plain": [
       "[105 - 30*x]"
      ]
     },
     "execution_count": 25,
     "metadata": {},
     "output_type": "execute_result"
    }
   ],
   "source": [
    "# Shear function\n",
    "\n",
    "x = sp.symbols('x')\n",
    "V_AC = sp.symbols('V_AC')\n",
    "\n",
    "w = 30*x\n",
    "\n",
    "V_AC = sp.solve(R_A-w-V_AC, V_AC)\n",
    "V_AC"
   ]
  },
  {
   "cell_type": "code",
   "execution_count": 26,
   "id": "5bb3f430",
   "metadata": {},
   "outputs": [
    {
     "data": {
      "text/plain": [
       "[15*x*(7 - x)]"
      ]
     },
     "execution_count": 26,
     "metadata": {},
     "output_type": "execute_result"
    }
   ],
   "source": [
    "# Moment function\n",
    "\n",
    "M_AC = sp.symbols('M_AC')\n",
    "\n",
    "M_AC = sp.solve(R_A*x-w*(x/2)-M_AC, M_AC)\n",
    "M_AC"
   ]
  },
  {
   "cell_type": "markdown",
   "id": "6f62a042",
   "metadata": {},
   "source": [
    "#### Segment CB\n",
    "\n",
    "<img src =\"ex2fbd3.png\"/>"
   ]
  },
  {
   "cell_type": "code",
   "execution_count": 27,
   "id": "bdf491b8",
   "metadata": {},
   "outputs": [
    {
     "data": {
      "text/plain": [
       "[-45]"
      ]
     },
     "execution_count": 27,
     "metadata": {},
     "output_type": "execute_result"
    }
   ],
   "source": [
    "# Shear function\n",
    "\n",
    "V_CB = sp.symbols('V_CB')\n",
    "\n",
    "W = 120\n",
    "V_CB = sp.solve(R_A-W-30-V_CB, V_CB)\n",
    "V_CB"
   ]
  },
  {
   "cell_type": "code",
   "execution_count": 28,
   "id": "a50422f9",
   "metadata": {},
   "outputs": [
    {
     "data": {
      "text/plain": [
       "[360 - 45*x]"
      ]
     },
     "execution_count": 28,
     "metadata": {},
     "output_type": "execute_result"
    }
   ],
   "source": [
    "# Moment function\n",
    "\n",
    "M_CB =sp.symbols('M_CB')\n",
    "\n",
    "M_CB = sp.solve(R_A*x-W*(x-2)-30*(x-4)-M_CB, M_CB)\n",
    "M_CB"
   ]
  },
  {
   "cell_type": "markdown",
   "id": "08f2bc03",
   "metadata": {},
   "source": [
    "### Diagrams"
   ]
  },
  {
   "cell_type": "code",
   "execution_count": 34,
   "id": "6490fe81",
   "metadata": {},
   "outputs": [],
   "source": [
    "X = []\n",
    "V = []\n",
    "M = []\n",
    "\n",
    "l = np.linspace(0, 8, 1000)\n",
    "\n",
    "for x in l:\n",
    "    if x < 4:\n",
    "        v = 105-30*x\n",
    "        m = 15*x*(7-x)\n",
    "    elif x > 4:\n",
    "        v = -45\n",
    "        m = 360-45*x\n",
    "        \n",
    "    X.append(x)\n",
    "    V.append(v)\n",
    "    M.append(m)"
   ]
  },
  {
   "cell_type": "markdown",
   "id": "353545f0",
   "metadata": {},
   "source": [
    "#### Shear Diagram"
   ]
  },
  {
   "cell_type": "code",
   "execution_count": 35,
   "id": "8b2a6b82",
   "metadata": {},
   "outputs": [
    {
     "data": {
      "text/plain": [
       "[<matplotlib.collections.PolyCollection at 0x22d56cefd90>]"
      ]
     },
     "execution_count": 35,
     "metadata": {},
     "output_type": "execute_result"
    },
    {
     "data": {
      "image/png": "[encoded data removed]",
      "text/plain": [
       "<Figure size 720x360 with 1 Axes>"
      ]
     },
     "metadata": {
      "needs_background": "light"
     },
     "output_type": "display_data"
    }
   ],
   "source": [
    "plt.figure(figsize =(10,5))\n",
    "plt.title(\"Shear Diagram\")\n",
    "plt.xlabel(\"distance (m)\")\n",
    "plt.ylabel(\"shear (kN)\")\n",
    "plt.stackplot(X,V)"
   ]
  },
  {
   "cell_type": "markdown",
   "id": "3b3a1ba1",
   "metadata": {},
   "source": [
    "#### Moment Diagram"
   ]
  },
  {
   "cell_type": "code",
   "execution_count": 36,
   "id": "02513765",
   "metadata": {},
   "outputs": [
    {
     "data": {
      "text/plain": [
       "[<matplotlib.collections.PolyCollection at 0x22d56d6d190>]"
      ]
     },
     "execution_count": 36,
     "metadata": {},
     "output_type": "execute_result"
    },
    {
     "data": {
      "image/png": "[encoded data removed]",
      "text/plain": [
       "<Figure size 720x360 with 1 Axes>"
      ]
     },
     "metadata": {
      "needs_background": "light"
     },
     "output_type": "display_data"
    }
   ],
   "source": [
    "plt.figure(figsize =(10,5))\n",
    "plt.title(\"Moment Diagram\")\n",
    "plt.xlabel(\"distance (m)\")\n",
    "plt.ylabel(\"Bending Moment (kN-m)\")\n",
    "plt.stackplot(X,M)"
   ]
  },
  {
   "cell_type": "code",
   "execution_count": null,
   "id": "78c87af8",
   "metadata": {},
   "outputs": [],
   "source": []
  }
 ],
 "metadata": {
  "kernelspec": {
   "display_name": "Python 3 (ipykernel)",
   "language": "python",
   "name": "python3"
  },
  "language_info": {
   "codemirror_mode": {
    "name": "ipython",
    "version": 3
   },
   "file_extension": ".py",
   "mimetype": "text/x-python",
   "name": "python",
   "nbconvert_exporter": "python",
   "pygments_lexer": "ipython3",
   "version": "3.9.7"
  }
 },
 "nbformat": 4,
 "nbformat_minor": 5
}
